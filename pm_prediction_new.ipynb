{
 "cells": [
  {
   "cell_type": "code",
   "execution_count": null,
   "metadata": {},
   "outputs": [],
   "source": [
    "import pandas as pd\n",
    "import numpy as np\n",
    "from matplotlib import pyplot as plt\n",
    "from sklearn.linear_model import LinearRegression as LR #線形回帰モデル\n",
    "import seaborn as sns\n",
    "#sns.set(font=\"IPAexGothic\",style=\"white\")\n"
   ]
  },
  {
   "cell_type": "code",
   "execution_count": null,
   "metadata": {},
   "outputs": [],
   "source": [
    "#上限表示数を拡張\n",
    "pd.set_option('display.max_columns', 150)\n",
    "pd.set_option('display.max_rows', 100)"
   ]
  },
  {
   "cell_type": "code",
   "execution_count": null,
   "metadata": {},
   "outputs": [],
   "source": [
    "#data check\n",
    "train = pd.read_csv(\"train.csv\")\n",
    "test = pd.read_csv(\"test.csv\")\n",
    "sample = pd.read_csv(\"submit_sample.csv\", header=None)\n",
    "\n",
    "#data 中身閲覧\n",
    "# train data\n",
    "train.head()"
   ]
  },
  {
   "cell_type": "code",
   "execution_count": null,
   "metadata": {
    "scrolled": true
   },
   "outputs": [],
   "source": [
    "#test data都市名変換\n",
    "change_city_df = pd.read_csv('change_city.csv')\n",
    "change_city_df"
   ]
  },
  {
   "cell_type": "code",
   "execution_count": null,
   "metadata": {},
   "outputs": [],
   "source": [
    "test_ex = pd.merge(test,change_city_df,how='left',on='City')"
   ]
  },
  {
   "cell_type": "code",
   "execution_count": null,
   "metadata": {},
   "outputs": [],
   "source": [
    "test_ex=test_ex.drop(columns='City')"
   ]
  },
  {
   "cell_type": "code",
   "execution_count": null,
   "metadata": {},
   "outputs": [],
   "source": [
    "test_ex=test_ex.rename(columns={'n_city':'City'})"
   ]
  },
  {
   "cell_type": "code",
   "execution_count": null,
   "metadata": {},
   "outputs": [],
   "source": [
    "df_pm_mean = pd.DataFrame(train.groupby(['City','month'])['pm25_mid'].mean())\n",
    "df_pm_mean = df_pm_mean.reset_index()\n",
    "df_pm_mean"
   ]
  },
  {
   "cell_type": "code",
   "execution_count": null,
   "metadata": {},
   "outputs": [],
   "source": [
    "df_pm_mean=df_pm_mean.rename(columns={'pm25_mid':'pm25_mean'})"
   ]
  },
  {
   "cell_type": "code",
   "execution_count": null,
   "metadata": {},
   "outputs": [],
   "source": [
    "#train/test concat\n",
    "df_all = pd.concat([train,test_ex])"
   ]
  },
  {
   "cell_type": "code",
   "execution_count": null,
   "metadata": {
    "scrolled": true
   },
   "outputs": [],
   "source": [
    "#meanをconcat\n",
    "df_all=pd.merge(df_all,df_pm_mean,how='left',on=['City','month'])\n",
    "df_all"
   ]
  },
  {
   "cell_type": "code",
   "execution_count": null,
   "metadata": {},
   "outputs": [],
   "source": [
    "df_all['pm25_mean'].isnull().sum()"
   ]
  },
  {
   "cell_type": "code",
   "execution_count": null,
   "metadata": {},
   "outputs": [],
   "source": [
    "#特徴量追加\n",
    "df_all['co_range'] = df_all['co_max']-df_all['co_min']\n",
    "df_all['o3_range']  = df_all['o3_max']-df_all['o3_min']\n",
    "df_all['so2_range'] = df_all['so2_max']-df_all['so2_min']\n",
    "df_all['no2_range'] = df_all['no2_max']-df_all['no2_min']\n",
    "df_all['temperature_range'] = df_all['temperature_max']-df_all['temperature_min']\n",
    "df_all['humidity_range'] = df_all['humidity_max']-df_all['humidity_min']\n",
    "df_all['pressure_range'] = df_all['pressure_max']-df_all['pressure_min']\n",
    "df_all['ws_range'] = df_all['ws_max']-df_all['ws_min']\n",
    "df_all['dew_range'] = df_all['dew_max']-df_all['dew_min']"
   ]
  },
  {
   "cell_type": "code",
   "execution_count": null,
   "metadata": {},
   "outputs": [],
   "source": [
    "#特徴量追加\n",
    "df_all['co_so2_no2_mid']=df_all['co_mid']+df_all['so2_mid']+df_all['no2_mid']\n",
    "df_all['month_day'] = df_all['month']*100+df_all['day']\n",
    "#移動平均(3日単位：都市単位に求める必要あり)\n",
    "#df_all['co_so2_no2_mid_3rel'] = df_all['co_so2_no2_mid'].rolling(3).sum()\n",
    "#df_all['co_so2_no2_mid_bf1'] = df_all['co_so2_no2_mid'].shift(1)"
   ]
  },
  {
   "cell_type": "code",
   "execution_count": null,
   "metadata": {},
   "outputs": [],
   "source": [
    "city_list = df_all['City'].unique()"
   ]
  },
  {
   "cell_type": "code",
   "execution_count": null,
   "metadata": {},
   "outputs": [],
   "source": [
    "len(city_list)"
   ]
  },
  {
   "cell_type": "code",
   "execution_count": null,
   "metadata": {},
   "outputs": [],
   "source": [
    "df_all['co_so2_no2_mid_3rel']=0\n",
    "df_all['co_so2_no2_mid_7rel']=0\n",
    "#df_all['co_so2_no2_mid_10rel']=0\n",
    "#df_all['co_mid_3rel']=0\n",
    "#df_all['so2_mid_3rel']=0\n",
    "#df_all['no2_mid_3rel']=0\n",
    "#df_all['co_so2_no2_mid_bf1']=0"
   ]
  },
  {
   "cell_type": "code",
   "execution_count": null,
   "metadata": {
    "scrolled": true
   },
   "outputs": [],
   "source": [
    "for city in city_list:\n",
    "    df_tmp = df_all[df_all['City']==city].copy()\n",
    "    df_tmp['co_so2_no2_mid_3rel'] = df_tmp['co_so2_no2_mid'].rolling(3).sum()\n",
    "    df_tmp['co_so2_no2_mid_7rel'] = df_tmp['co_so2_no2_mid'].rolling(7).sum()\n",
    "    #df_tmp['co_so2_no2_mid_10rel'] = df_tmp['co_so2_no2_mid'].rolling(10).sum()\n",
    "    #df_tmp['co_mid_3rel'] = df_tmp['co_mid'].rolling(3).sum()\n",
    "    #df_tmp['so2_mid_3rel'] = df_tmp['so2_mid'].rolling(3).sum()\n",
    "    #df_tmp['no2_mid_3rel'] = df_tmp['no2_mid'].rolling(3).sum()\n",
    "    #df_tmp['co_so2_no2_mid_bf1'] = df_tmp['co_so2_no2_mid'].shift(1)\n",
    "    df_all['co_so2_no2_mid_3rel'] = df_all['co_so2_no2_mid_3rel'].where(df_all['City']!=city,df_tmp['co_so2_no2_mid_3rel'])\n",
    "    df_all['co_so2_no2_mid_7rel'] = df_all['co_so2_no2_mid_7rel'].where(df_all['City']!=city,df_tmp['co_so2_no2_mid_7rel'])\n",
    "    #df_all['co_so2_no2_mid_10rel'] = df_all['co_so2_no2_mid_10rel'].where(df_all['City']!=city,df_tmp['co_so2_no2_mid_10rel'])\n",
    "    #df_all['co_mid_3rel'] = df_all['co_mid_3rel'].where(df_all['City']!=city,df_tmp['co_mid_3rel'])\n",
    "    #df_all['so2_mid_3rel'] = df_all['so2_mid_3rel'].where(df_all['City']!=city,df_tmp['so2_mid_3rel'])\n",
    "    #df_all['no2_mid_3rel'] = df_all['no2_mid_3rel'].where(df_all['City']!=city,df_tmp['no2_mid_3rel'])\n",
    "    #df_all['co_so2_no2_mid_bf1'] = df_all['co_so2_no2_mid_bf1'].where(df_all['City']!=city,df_tmp['co_so2_no2_mid_bf1'])"
   ]
  },
  {
   "cell_type": "code",
   "execution_count": null,
   "metadata": {},
   "outputs": [],
   "source": [
    "print(df_all['co_so2_no2_mid_3rel'].isnull().sum())\n",
    "print(df_all['co_so2_no2_mid_7rel'].isnull().sum())\n",
    "#print(df_all['co_so2_no2_mid_10rel'].isnull().sum())\n",
    "#print(df_all['co_mid_3rel'].isnull().sum())\n",
    "#print(df_all['so2_mid_3rel'].isnull().sum())\n",
    "#print(df_all['no2_mid_3rel'].isnull().sum())\n",
    "#print(df_all['co_so2_no2_mid_bf1'].isnull().sum())"
   ]
  },
  {
   "cell_type": "code",
   "execution_count": null,
   "metadata": {},
   "outputs": [],
   "source": [
    "def month_offset(x):\n",
    "    if x == 1 or x == 8:\n",
    "        offset = 4\n",
    "    elif x == 2 or x == 9:    \n",
    "        offset = 2\n",
    "    elif x == 3 or x == 10:\n",
    "        offset = 0\n",
    "    elif x == 4 or x == 11:\n",
    "        offset = 5\n",
    "    elif x == 5 or x == 12:\n",
    "        offset = 3\n",
    "    elif x == 6:\n",
    "        offset = 1\n",
    "    else:\n",
    "        offset = 6\n",
    "    return offset\n",
    "#df_all['month_offset'] = df_all['month'].apply(month_offset)\n",
    "df_all['year_week'] = df_all['month_day']/7\n",
    "df_all['year_week'] = df_all['year_week'].round().astype(int)"
   ]
  },
  {
   "cell_type": "code",
   "execution_count": null,
   "metadata": {
    "scrolled": true
   },
   "outputs": [],
   "source": [
    "df_tr = df_all[df_all['pm25_mid'].notnull()]\n",
    "df_pm_mean2 = pd.DataFrame(df_tr.groupby(['Country','year_week'])['pm25_mid'].mean())\n",
    "df_pm_mean2 = df_pm_mean2.reset_index()\n",
    "df_pm_mean2"
   ]
  },
  {
   "cell_type": "code",
   "execution_count": null,
   "metadata": {},
   "outputs": [],
   "source": [
    "df_pm_mean2=df_pm_mean2.rename(columns={'pm25_mid':'pm25_mean2'})"
   ]
  },
  {
   "cell_type": "code",
   "execution_count": null,
   "metadata": {},
   "outputs": [],
   "source": [
    "#meanをconcat\n",
    "df_all=pd.merge(df_all,df_pm_mean2,how='left',on=['Country','year_week'])\n",
    "df_all"
   ]
  },
  {
   "cell_type": "code",
   "execution_count": null,
   "metadata": {},
   "outputs": [],
   "source": [
    "df_all['pm25_mean2'].isnull().sum()"
   ]
  },
  {
   "cell_type": "code",
   "execution_count": null,
   "metadata": {},
   "outputs": [],
   "source": [
    "#特徴量Drop\n",
    "#df_all = df_all.drop([\"pm25_mean2\"], axis=1)"
   ]
  },
  {
   "cell_type": "code",
   "execution_count": null,
   "metadata": {},
   "outputs": [],
   "source": [
    "#特徴量Drop\n",
    "#df_all = df_all.drop(['co_cnt','o3_cnt','so2_cnt',\"no2_cnt\",\"temperature_cnt\",\"humidity_cnt\",\"pressure_cnt\",\"ws_cnt\",\"dew_cnt\"], axis=1)\n",
    "#df_all = df_all.drop(['co_var','o3_var','so2_var',\"no2_var\",\"temperature_var\",\"humidity_var\",\"pressure_var\",\"ws_var\",\"dew_var\"], axis=1)\n",
    "#df_all = df_all.drop(['co_min','o3_min','so2_min',\"no2_min\",\"temperature_min\",\"humidity_min\",\"pressure_min\",\"ws_min\",\"dew_min\"], axis=1)"
   ]
  },
  {
   "cell_type": "code",
   "execution_count": null,
   "metadata": {},
   "outputs": [],
   "source": [
    "#Country,Cityの処理(一旦dummie変数化する)\n",
    "df_all = pd.get_dummies(df_all,columns=['Country','City'])"
   ]
  },
  {
   "cell_type": "code",
   "execution_count": null,
   "metadata": {},
   "outputs": [],
   "source": [
    "#test/train 分離\n",
    "train = df_all[df_all['pm25_mid'].notnull()]\n",
    "test = df_all[df_all['pm25_mid'].isnull()]"
   ]
  },
  {
   "cell_type": "code",
   "execution_count": null,
   "metadata": {},
   "outputs": [],
   "source": [
    "train['pm25_mid'].isnull().sum()"
   ]
  },
  {
   "cell_type": "code",
   "execution_count": null,
   "metadata": {},
   "outputs": [],
   "source": [
    "test['pm25_mid'].isnull().sum()"
   ]
  },
  {
   "cell_type": "code",
   "execution_count": null,
   "metadata": {},
   "outputs": [],
   "source": [
    "test = test.drop('pm25_mid',axis=1)"
   ]
  },
  {
   "cell_type": "code",
   "execution_count": null,
   "metadata": {},
   "outputs": [],
   "source": [
    "df_test = test.drop('id',axis=1)"
   ]
  },
  {
   "cell_type": "code",
   "execution_count": null,
   "metadata": {},
   "outputs": [],
   "source": [
    "df_train = train.drop(['pm25_mid','id'],axis=1)\n",
    "df_target = train['pm25_mid']"
   ]
  },
  {
   "cell_type": "code",
   "execution_count": null,
   "metadata": {},
   "outputs": [],
   "source": [
    "#学習データ作成\n",
    "from sklearn.model_selection import train_test_split\n",
    "from sklearn.model_selection import KFold\n",
    "\n",
    "def get_train_data(df_train,df_target):\n",
    "    X_train, X_test, y_train, y_test = train_test_split(df_train, df_target, test_size=0.1,random_state=1)\n",
    "    return X_train, X_test, y_train, y_test\n"
   ]
  },
  {
   "cell_type": "code",
   "execution_count": null,
   "metadata": {},
   "outputs": [],
   "source": [
    "X_train, X_test, y_train, y_test = get_train_data(df_train,df_target)"
   ]
  },
  {
   "cell_type": "code",
   "execution_count": null,
   "metadata": {},
   "outputs": [],
   "source": [
    "#学習モデル定義\n",
    "def lightGBM_trainer(X_train_cv,y_train_cv,X_test_cv,y_test_cv):\n",
    "    # 学習用\n",
    "    train_data = lgb.Dataset(X_train_cv, y_train_cv,\n",
    "                            free_raw_data=False)\n",
    "    # 検証用\n",
    "    eval_data = lgb.Dataset(X_test_cv, y_test_cv, reference=train_data,\n",
    "                           free_raw_data=False)\n",
    "    my_params  = {\n",
    "        'objective': 'regression',\n",
    "        'max_bin':250,\n",
    "        'learning_rate': 0.05, # 学習率\n",
    "        'max_depth': -1, # 木の数 (負の値で無制限)\n",
    "        'num_leaves': 11, # 枝葉の数\n",
    "        'metric': ('mean_absolute_error', 'mean_squared_error', 'rmse', 'multi'),\n",
    "        'drop_rate': 0.15,\n",
    "        'verbose': 0\n",
    "    }\n",
    "    print(my_params)\n",
    "    # 学習\n",
    "    evaluation_results = {}                                     # 学習の経過を保存する箱\n",
    "    model_lgb = lgb.train(my_params, \n",
    "                          train_data,\n",
    "                          valid_names=['train', 'valid'],\n",
    "                          valid_sets=[train_data,eval_data],\n",
    "                          evals_result=evaluation_results,\n",
    "                          num_boost_round=10000,\n",
    "                          #early_stopping_rounds=100,\n",
    "                          verbose_eval=50)\n",
    "    return model_lgb"
   ]
  },
  {
   "cell_type": "code",
   "execution_count": null,
   "metadata": {},
   "outputs": [],
   "source": [
    "#評価関数\n",
    "from sklearn.metrics import mean_absolute_error\n",
    "from sklearn.metrics import mean_squared_error\n",
    "\n",
    "def eval_model_lgb(model,X_test,y_test):\n",
    "    # テストデータで予測する\n",
    "    y_pred = model.predict(X_test)\n",
    "    #y_pred_max = np.argmax(y_pred)\n",
    " \n",
    "    score = np.sqrt(mean_squared_error(y_test,y_pred))\n",
    "    #score = mean_absolute_error(y_test,y_pred)\n",
    "    # 学習が終わったモデルをリストに入れておく\n",
    "    models_lgm.append(model)\n",
    "    sqr_scores_lgm.append(score)\n",
    "    print(score)\n",
    "    return y_pred"
   ]
  },
  {
   "cell_type": "code",
   "execution_count": null,
   "metadata": {},
   "outputs": [],
   "source": [
    "#cat boost\n",
    "from catboost import CatBoostRegressor, FeaturesData, Pool\n",
    "\n",
    "#学習モデル定義\n",
    "def catboost_trainer(X_train_cv,y_train_cv,X_test_cv,y_test_cv):\n",
    "\n",
    "    #cat boost\n",
    "    train_pool = Pool(X_train_cv, y_train_cv)\n",
    "    validate_pool = Pool(X_test_cv, y_test_cv)\n",
    "    \n",
    "    model_cat = CatBoostRegressor(iterations=10000,\n",
    "                                  task_type=\"GPU\",\n",
    "                                  learning_rate=0.03, \n",
    "                                  depth=9, \n",
    "                                  eval_metric=\"RMSE\", \n",
    "                                  early_stopping_rounds=1000,\n",
    "                                  verbose=1000)\n",
    "    model_cat.fit(train_pool)\n",
    "    return model_cat\n",
    "\n",
    "def eval_model_cat(model,X_test,y_test):\n",
    "    # テストデータで予測する\n",
    "    y_pred = model.predict(X_test)\n",
    " \n",
    "    #squared err score\n",
    "    score = np.sqrt(mean_squared_error(y_test,y_pred))\n",
    "    models_cat.append(model)\n",
    "    sqr_scores_cat.append(score)\n",
    "    print(score)\n",
    "    return y_pred"
   ]
  },
  {
   "cell_type": "code",
   "execution_count": null,
   "metadata": {},
   "outputs": [],
   "source": [
    "#Random Forest\n",
    "from sklearn.ensemble import RandomForestRegressor\n",
    "\n",
    "#学習モデル定義\n",
    "def rf_trainer(X_train_cv,y_train_cv,X_test_cv,y_test_cv):\n",
    "    #RandomFOREST\n",
    "    model_rf = RandomForestRegressor(random_state=1)\n",
    "    model_rf.fit(X_train_cv,y_train_cv)\n",
    "    return model_rf\n",
    "\n",
    "def eval_model_rf(model_rf,X_test,y_test):\n",
    "    y_pred = model_rf.predict(X_test)\n",
    "    #squared err score\n",
    "    score = mean_squared_error(y_test,y_pred)\n",
    "    models_rf.append(model_rf)\n",
    "    sqr_scores_rf.append(score)\n",
    "    print(np.sqrt(score))\n",
    "    return y_pred"
   ]
  },
  {
   "cell_type": "code",
   "execution_count": null,
   "metadata": {
    "scrolled": true
   },
   "outputs": [],
   "source": [
    "#学習\n",
    "#light GBM\n",
    "import lightgbm as lgb\n",
    "\n",
    "\n",
    "# 学習データの数だけの数列（0行から最終行まで連番）\n",
    "row_no_list = list(range(len(y_train)))\n",
    "\n",
    "#KFold\n",
    "kf = KFold(n_splits=3)\n",
    "\n",
    "models_lgm = []\n",
    "models_cat = []\n",
    "models_rf = []\n",
    "sqr_scores_lgm = []\n",
    "sqr_scores_cat = []\n",
    "sqr_scores_rf = []\n",
    "\n",
    "#y_train_index list\n",
    "for train_cv_no, eval_cv_no in kf.split(row_no_list, y_train):\n",
    "    # ilocで取り出す行を指定\n",
    "    X_train_cv = X_train.iloc[train_cv_no, :]\n",
    "    y_train_cv = pd.Series(y_train).iloc[train_cv_no]\n",
    "    X_eval_cv = X_train.iloc[eval_cv_no, :]\n",
    "    y_eval_cv = pd.Series(y_train).iloc[eval_cv_no]\n",
    "\n",
    "    #Light GBM\n",
    "    model_lgm = lightGBM_trainer(X_train_cv,y_train_cv,X_eval_cv,y_eval_cv)\n",
    "    eval_model_lgb(model_lgm,X_eval_cv,y_eval_cv)\n",
    "\n",
    "    #catboost\n",
    "    model_cat = catboost_trainer(X_train_cv,y_train_cv,X_eval_cv,y_eval_cv)\n",
    "    eval_model_cat(model_cat,X_eval_cv,y_eval_cv)\n",
    "\n",
    "    #RF\n",
    "    #model_rf = rf_trainer(X_train_cv,y_train_cv,X_eval_cv,y_eval_cv)\n",
    "    #eval_model_rf(model_rf,X_eval_cv,y_eval_cv)\n"
   ]
  },
  {
   "cell_type": "code",
   "execution_count": null,
   "metadata": {
    "scrolled": true
   },
   "outputs": [],
   "source": [
    "from statistics import mean\n",
    "print(mean(sqr_scores_lgm))\n",
    "print(max(sqr_scores_lgm))\n",
    "print(min(sqr_scores_lgm))"
   ]
  },
  {
   "cell_type": "raw",
   "metadata": {},
   "source": [
    "rel3+rel7\n",
    "19.221873319449465\n",
    "19.283559969215524\n",
    "19.154134044898854\n",
    "rel3+rel7+rel10\n",
    "19.22291811725886\n",
    "19.29279425538296\n",
    "19.154890299756246\n",
    "+country(7割)\n",
    "19.13639494111634\n",
    "19.179726672238665\n",
    "19.068136961299935"
   ]
  },
  {
   "cell_type": "code",
   "execution_count": null,
   "metadata": {},
   "outputs": [],
   "source": [
    "print(mean(sqr_scores_cat))\n",
    "print(max(sqr_scores_cat))\n",
    "print(min(sqr_scores_cat))"
   ]
  },
  {
   "cell_type": "raw",
   "metadata": {},
   "source": [
    "rel3+rel7\n",
    "18.81998741370428\n",
    "18.877046851895216\n",
    "18.778251588880988\n",
    "+country(7で割り算）\n",
    "18.75907096457775\n",
    "18.81425682362412\n",
    "18.7203769544216"
   ]
  },
  {
   "cell_type": "code",
   "execution_count": null,
   "metadata": {},
   "outputs": [],
   "source": [
    "#print(np.sqrt(mean(sqr_scores_rf)))\n",
    "#print(np.sqrt(max(sqr_scores_rf)))\n",
    "#print(np.sqrt(min(sqr_scores_rf)))"
   ]
  },
  {
   "cell_type": "code",
   "execution_count": null,
   "metadata": {
    "scrolled": true
   },
   "outputs": [],
   "source": [
    "#アンサンブル\n",
    "lgm = 10\n",
    "cat = 34\n",
    "pred_mix_1 = ((models_lgm[0].predict(X_test)*lgm)+(models_cat[0].predict(X_test)*cat))/(lgm+cat)\n",
    "pred_mix_2 = ((models_lgm[1].predict(X_test)*lgm)+(models_cat[1].predict(X_test)*cat))/(lgm+cat)\n",
    "pred_mix_3 = ((models_lgm[2].predict(X_test)*lgm)+(models_cat[2].predict(X_test)*cat))/(lgm+cat)\n",
    "score1 = np.sqrt(mean_squared_error(y_test,pred_mix_1))\n",
    "score2 = np.sqrt(mean_squared_error(y_test,pred_mix_2))\n",
    "score3 = np.sqrt(mean_squared_error(y_test,pred_mix_3))\n",
    "print(score1)\n",
    "print(score2)\n",
    "print(score3)\n",
    "print((score1+score2+score3)/3)"
   ]
  },
  {
   "cell_type": "raw",
   "metadata": {},
   "source": [
    "↑New\n",
    "＋country(3割)10/31\n",
    "19.194786094430526\n",
    "19.11155684020025\n",
    "19.106722999088472\n",
    "19.137688644573085\n",
    "\n",
    "＋country(7割)10/32\n",
    "19.26052998580153\n",
    "19.1723985832802\n",
    "19.153247286967968\n",
    "19.195391952016564\n",
    "\n",
    "rel3+rel7(10/37)\n",
    "19.354194296972203\n",
    "19.232448325814445\n",
    "19.23937776208961\n",
    "19.275340128292086\n"
   ]
  },
  {
   "cell_type": "code",
   "execution_count": null,
   "metadata": {},
   "outputs": [],
   "source": [
    "import matplotlib\n",
    "# 日本語対応\n",
    "matplotlib.rc('font', family='BIZ UDGothic')\n",
    "def result_graph(pred,y_test):\n",
    "    # 1.グラフのサイズを指定し、グラフの大きさを正方形になるように設定する\n",
    "    plt.figure(figsize=(5,5))\n",
    "\n",
    "    # 2.横軸を実測値、縦軸を予測値として、散布図を描く\n",
    "    plt.scatter(y_test,pred)\n",
    "\n",
    "    min_value = min(y_test)\n",
    "    max_value = max(y_test)\n",
    "\n",
    "    # 4.最小値と最大値を使い、x軸およびy軸の値域を指定する\n",
    "    plt.xlim([min_value,max_value])\n",
    "    plt.ylim([min_value,max_value])\n",
    "\n",
    "    # 5.対角線を描く\n",
    "    plt.plot([min_value,max_value],[min_value,max_value])\n",
    "\n",
    "    #x軸とy軸に名前を付ける\n",
    "    plt.xlabel(\"実績値\")\n",
    "    plt.ylabel(\"予測値\")\n",
    "\n",
    "    # 可視化結果を表示する為に必要な関数\n",
    "    plt.show()"
   ]
  },
  {
   "cell_type": "code",
   "execution_count": null,
   "metadata": {},
   "outputs": [],
   "source": [
    "result_graph(pred_mix_1,y_test)"
   ]
  },
  {
   "cell_type": "code",
   "execution_count": null,
   "metadata": {},
   "outputs": [],
   "source": [
    "result_graph(pred_mix_2,y_test)"
   ]
  },
  {
   "cell_type": "code",
   "execution_count": null,
   "metadata": {},
   "outputs": [],
   "source": [
    "result_graph(pred_mix_3,y_test)"
   ]
  },
  {
   "cell_type": "code",
   "execution_count": null,
   "metadata": {},
   "outputs": [],
   "source": [
    "#高速テスト版\n",
    "model_lgm_ = lightGBM_trainer(X_train,y_train,X_test,y_test)\n",
    "model_cat_ = catboost_trainer(X_train,y_train,X_test,y_test)\n",
    "#model_rf_ = rf_trainer(X_train,y_train,X_test,y_test)"
   ]
  },
  {
   "cell_type": "code",
   "execution_count": null,
   "metadata": {},
   "outputs": [],
   "source": [
    "pred_lgm_=eval_model_lgb(model_lgm_,X_test,y_test)\n",
    "pred_cat_=eval_model_cat(model_cat_,X_test,y_test)\n",
    "#pred_rf_=eval_model_rf(model_rf_,X_test,y_test)"
   ]
  },
  {
   "cell_type": "code",
   "execution_count": null,
   "metadata": {},
   "outputs": [],
   "source": [
    "#アンサンブル\n",
    "\n",
    "#pred_mix_ = ((models_lgm_.predict(X_test)*lgm)+(models_cat_.predict(X_test)*cat)+(models_rf_.predict(X_test)*rf))/(lgm+cat+rf)\n",
    "pred_mix_ = ((models_lgm_.predict(X_test)*lgm)+(models_cat_.predict(X_test)*cat))/(lgm+cat)\n",
    "score_ = np.sqrt(mean_squared_error(y_test,pred_mix_))\n",
    "print(score_)"
   ]
  },
  {
   "cell_type": "code",
   "execution_count": null,
   "metadata": {
    "scrolled": true
   },
   "outputs": [],
   "source": [
    "# 全データを用いたTraining\n",
    "#Light GBM\n",
    "model_lgm = lightGBM_trainer(df_train,df_target,X_test,y_test)\n",
    "\n",
    "eval_model_lgb(model_lgm,X_test,y_test)\n",
    "#eval_model_LR(model_lr,X_eval_cv,y_eval_cv)\n"
   ]
  },
  {
   "cell_type": "code",
   "execution_count": null,
   "metadata": {},
   "outputs": [],
   "source": [
    "sqr_scores_lgm"
   ]
  },
  {
   "cell_type": "code",
   "execution_count": null,
   "metadata": {},
   "outputs": [],
   "source": [
    "# 特徴量の重要度をプロットする\n",
    "from matplotlib import pyplot as plt\n",
    "lgb.plot_importance(model_lgm, figsize=(20, 50))\n",
    "plt.show()"
   ]
  },
  {
   "cell_type": "code",
   "execution_count": null,
   "metadata": {},
   "outputs": [],
   "source": [
    "pred_lgm = model_lgm.predict(df_test)\n",
    "#pred_lr = model_lr.predict(df_test)"
   ]
  },
  {
   "cell_type": "code",
   "execution_count": null,
   "metadata": {
    "scrolled": true
   },
   "outputs": [],
   "source": [
    "pred_lgm"
   ]
  },
  {
   "cell_type": "code",
   "execution_count": null,
   "metadata": {},
   "outputs": [],
   "source": [
    "# 全データを用いたTraining\n",
    "#catboost\n",
    "model_cat = catboost_trainer(df_train,df_target,X_test,y_test)"
   ]
  },
  {
   "cell_type": "code",
   "execution_count": null,
   "metadata": {},
   "outputs": [],
   "source": [
    "pred_cat = model_cat.predict(df_test)"
   ]
  },
  {
   "cell_type": "code",
   "execution_count": null,
   "metadata": {},
   "outputs": [],
   "source": [
    "pred_cat"
   ]
  },
  {
   "cell_type": "code",
   "execution_count": null,
   "metadata": {},
   "outputs": [],
   "source": [
    "for col in df_test.columns:\n",
    "    print(col)"
   ]
  },
  {
   "cell_type": "code",
   "execution_count": null,
   "metadata": {
    "scrolled": true
   },
   "outputs": [],
   "source": [
    "sample"
   ]
  },
  {
   "cell_type": "code",
   "execution_count": null,
   "metadata": {
    "scrolled": true
   },
   "outputs": [],
   "source": [
    "# testデータに適応\n",
    "#sample[1] = pred_lgm\n",
    "sample[1] = (pred_lgm*lgm+pred_cat*cat)/(lgm+cat)\n",
    "sample"
   ]
  },
  {
   "cell_type": "code",
   "execution_count": null,
   "metadata": {},
   "outputs": [],
   "source": [
    "sample.to_csv(\"sample_submit_v19.csv\", index=None, header=None)"
   ]
  }
 ],
 "metadata": {
  "kernelspec": {
   "display_name": "Python 3 (ipykernel)",
   "language": "python",
   "name": "python3"
  },
  "language_info": {
   "codemirror_mode": {
    "name": "ipython",
    "version": 3
   },
   "file_extension": ".py",
   "mimetype": "text/x-python",
   "name": "python",
   "nbconvert_exporter": "python",
   "pygments_lexer": "ipython3",
   "version": "3.10.3"
  }
 },
 "nbformat": 4,
 "nbformat_minor": 2
}
