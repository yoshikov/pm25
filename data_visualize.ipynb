{
 "cells": [
  {
   "cell_type": "code",
   "execution_count": null,
   "id": "05fa4bc7",
   "metadata": {},
   "outputs": [],
   "source": [
    "import pandas as pd\n",
    "import numpy as np\n",
    "from matplotlib import pyplot as plt\n",
    "from sklearn.linear_model import LinearRegression as LR #線形回帰モデル\n",
    "import seaborn as sns"
   ]
  },
  {
   "cell_type": "code",
   "execution_count": null,
   "id": "8c927cf8",
   "metadata": {},
   "outputs": [],
   "source": [
    "#上限表示数を拡張\n",
    "pd.set_option('display.max_columns', 150)\n",
    "pd.set_option('display.max_rows', 200)"
   ]
  },
  {
   "cell_type": "code",
   "execution_count": null,
   "id": "bc972feb",
   "metadata": {},
   "outputs": [],
   "source": [
    "#data check\n",
    "train = pd.read_csv(\"train.csv\")\n",
    "test = pd.read_csv(\"test.csv\")"
   ]
  },
  {
   "cell_type": "code",
   "execution_count": null,
   "id": "04c3d74b",
   "metadata": {},
   "outputs": [],
   "source": [
    "train.columns"
   ]
  },
  {
   "cell_type": "code",
   "execution_count": null,
   "id": "9e3cf4ab",
   "metadata": {},
   "outputs": [],
   "source": [
    "pg = sns.pairplot(train)"
   ]
  },
  {
   "cell_type": "code",
   "execution_count": null,
   "id": "788228a1",
   "metadata": {},
   "outputs": [],
   "source": [
    "pg.savefig('seaborn_pairplot_default.png')"
   ]
  },
  {
   "cell_type": "code",
   "execution_count": null,
   "id": "30d88823",
   "metadata": {},
   "outputs": [],
   "source": [
    "train_high = train[train['pm25_mid']>=300]"
   ]
  },
  {
   "cell_type": "code",
   "execution_count": null,
   "id": "6b81bb6a",
   "metadata": {},
   "outputs": [],
   "source": [
    "train_high"
   ]
  },
  {
   "cell_type": "code",
   "execution_count": null,
   "id": "35ec9ec2",
   "metadata": {},
   "outputs": [],
   "source": [
    "train_high['Country'].unique()"
   ]
  },
  {
   "cell_type": "code",
   "execution_count": null,
   "id": "b1e91df1",
   "metadata": {},
   "outputs": [],
   "source": [
    "train_high['City'].unique()"
   ]
  },
  {
   "cell_type": "code",
   "execution_count": null,
   "id": "aa974183",
   "metadata": {},
   "outputs": [],
   "source": [
    "train_high[train_high['Country']=='Hungary']"
   ]
  },
  {
   "cell_type": "code",
   "execution_count": null,
   "id": "2f56dec5",
   "metadata": {},
   "outputs": [],
   "source": [
    "train[train['Country']=='China']"
   ]
  },
  {
   "cell_type": "code",
   "execution_count": null,
   "id": "db9faa88",
   "metadata": {},
   "outputs": [],
   "source": [
    "train['Country'].value_counts()"
   ]
  },
  {
   "cell_type": "code",
   "execution_count": null,
   "id": "c7711db5",
   "metadata": {},
   "outputs": [],
   "source": [
    "train.groupby('Country')['pm25_mid'].describe()"
   ]
  },
  {
   "cell_type": "code",
   "execution_count": null,
   "id": "4b310aed",
   "metadata": {},
   "outputs": [],
   "source": [
    "test['Country'].value_counts()"
   ]
  },
  {
   "cell_type": "code",
   "execution_count": null,
   "id": "85cb0e22",
   "metadata": {},
   "outputs": [],
   "source": [
    "train['City'].value_counts()"
   ]
  },
  {
   "cell_type": "code",
   "execution_count": null,
   "id": "86ef150f",
   "metadata": {},
   "outputs": [],
   "source": [
    "city_data = train[train['City']=='Nanning'].copy()"
   ]
  },
  {
   "cell_type": "code",
   "execution_count": null,
   "id": "1ece974d",
   "metadata": {},
   "outputs": [],
   "source": [
    "city_data = city_data.reset_index()"
   ]
  },
  {
   "cell_type": "code",
   "execution_count": null,
   "id": "dfaef866",
   "metadata": {},
   "outputs": [],
   "source": [
    "#pm25グラフplot \n",
    "city_data[\"pm25_mid\"].plot(figsize=(15,4))"
   ]
  },
  {
   "cell_type": "code",
   "execution_count": null,
   "id": "0bcbe54f",
   "metadata": {
    "scrolled": true
   },
   "outputs": [],
   "source": [
    "city_data[\"co_mid\"].plot(figsize=(15,4))"
   ]
  },
  {
   "cell_type": "code",
   "execution_count": null,
   "id": "51c42ba1",
   "metadata": {},
   "outputs": [],
   "source": [
    "city_data['cosono']=city_data['co_mid']+city_data['so2_mid']+city_data['no2_mid']"
   ]
  },
  {
   "cell_type": "code",
   "execution_count": null,
   "id": "a23c8be6",
   "metadata": {},
   "outputs": [],
   "source": [
    "city_data[\"cosono\"].plot(figsize=(15,4))"
   ]
  },
  {
   "cell_type": "code",
   "execution_count": null,
   "id": "b3e8c06f",
   "metadata": {},
   "outputs": [],
   "source": []
  },
  {
   "cell_type": "code",
   "execution_count": null,
   "id": "11549d0b",
   "metadata": {},
   "outputs": [],
   "source": [
    "df_all['co_range'] = df_all['co_max']-df_all['co_min']\n",
    "df_all['o3_range']  = df_all['o3_max']-df_all['o3_min']\n",
    "df_all['so2_range'] = df_all['so2_max']-df_all['so2_min']\n",
    "df_all['no2_range'] = df_all['no2_max']-df_all['no2_min']\n",
    "df_all['temperature_range'] = df_all['temperature_max']-df_all['temperature_min']\n",
    "df_all['humidity_range'] = df_all['humidity_max']-df_all['humidity_min']\n",
    "df_all['pressure_range'] = df_all['pressure_max']-df_all['pressure_min']\n",
    "df_all['ws_range'] = df_all['ws_max']-df_all['ws_min']\n",
    "df_all['dew_range'] = df_all['dew_max']-df_all['dew_min']"
   ]
  },
  {
   "cell_type": "code",
   "execution_count": null,
   "id": "22397e69",
   "metadata": {},
   "outputs": [],
   "source": []
  },
  {
   "cell_type": "markdown",
   "id": "6c408d6c",
   "metadata": {},
   "source": [
    "## country一致するかどうかのチェック"
   ]
  },
  {
   "cell_type": "code",
   "execution_count": null,
   "id": "15c05dbf",
   "metadata": {},
   "outputs": [],
   "source": [
    "country_list_tr = train['Country'].unique()\n",
    "country_list_ts = test['Country'].unique()"
   ]
  },
  {
   "cell_type": "code",
   "execution_count": null,
   "id": "5f3b456f",
   "metadata": {},
   "outputs": [],
   "source": [
    "country_list_tr"
   ]
  },
  {
   "cell_type": "code",
   "execution_count": null,
   "id": "c46d735d",
   "metadata": {},
   "outputs": [],
   "source": [
    "country_list_ts"
   ]
  },
  {
   "cell_type": "code",
   "execution_count": null,
   "id": "f3523052",
   "metadata": {},
   "outputs": [],
   "source": [
    "co_tr = set(country_list_tr)\n",
    "co_ts = set(country_list_ts)\n",
    "co_matched_list = list(co_tr & co_ts)"
   ]
  },
  {
   "cell_type": "code",
   "execution_count": null,
   "id": "32500ffd",
   "metadata": {},
   "outputs": [],
   "source": [
    "print(len(co_tr))\n",
    "print(len(co_ts))\n",
    "print(len(co_matched_list))"
   ]
  },
  {
   "cell_type": "markdown",
   "id": "977fe77e",
   "metadata": {},
   "source": [
    "#### 完全一致！"
   ]
  },
  {
   "cell_type": "markdown",
   "id": "9ce65033",
   "metadata": {},
   "source": [
    "## City一致するかどうかのチェック"
   ]
  },
  {
   "cell_type": "code",
   "execution_count": null,
   "id": "8ad5ed21",
   "metadata": {},
   "outputs": [],
   "source": [
    "city_list_tr = train['City'].unique()\n",
    "city_list_ts = test['City'].unique()"
   ]
  },
  {
   "cell_type": "code",
   "execution_count": null,
   "id": "59febaa6",
   "metadata": {},
   "outputs": [],
   "source": [
    "src_set = set(city_list_tr)\n",
    "tag_set = set(city_list_ts)\n",
    "matched_list = list(src_set & tag_set)"
   ]
  },
  {
   "cell_type": "code",
   "execution_count": null,
   "id": "c4608361",
   "metadata": {},
   "outputs": [],
   "source": [
    "print(len(city_list_tr))\n",
    "print(len(city_list_ts))\n",
    "print(len(matched_list))"
   ]
  },
  {
   "cell_type": "markdown",
   "id": "93a064a2",
   "metadata": {},
   "source": [
    "#### 完全不一致！対策必要"
   ]
  },
  {
   "cell_type": "markdown",
   "id": "5537d765",
   "metadata": {},
   "source": [
    "## ヒュウベニ公式"
   ]
  },
  {
   "cell_type": "code",
   "execution_count": null,
   "id": "36fa49e7",
   "metadata": {},
   "outputs": [],
   "source": [
    "import math\n",
    "\n",
    "pole_radius = 6356752.314245                  # 極半径\n",
    "equator_radius = 6378137.0                    # 赤道半径\n",
    "def cal_distance(lat_1,lon_1,lat_2,lon_2):\n",
    "\n",
    "    # 緯度経度をラジアンに変換\n",
    "    lat_1_rad = math.radians(lat_1)\n",
    "    lon_1_rad = math.radians(lon_1)\n",
    "    lat_2_rad = math.radians(lat_2)\n",
    "    lon_2_rad = math.radians(lon_2)\n",
    "\n",
    "    lat_difference = lat_1_rad - lat_2_rad       # 緯度差\n",
    "    lon_difference = lon_1_rad - lon_2_rad       # 経度差\n",
    "    lat_average = (lat_1_rad + lat_2_rad) / 2    # 平均緯度\n",
    "\n",
    "    e2 = (math.pow(equator_radius, 2) - math.pow(pole_radius, 2)) \\\n",
    "            / math.pow(equator_radius, 2)  # 第一離心率^2\n",
    "\n",
    "    w = math.sqrt(1- e2 * math.pow(math.sin(lat_average), 2))\n",
    "\n",
    "    m = equator_radius * (1 - e2) / math.pow(w, 3) # 子午線曲率半径\n",
    "\n",
    "    n = equator_radius / w                         # 卯酉線曲半径\n",
    "\n",
    "    distance = math.sqrt(math.pow(m * lat_difference, 2) \\\n",
    "                   + math.pow(n * lon_difference * math.cos(lat_average), 2)) # 距離計測\n",
    "    return (distance/1000)"
   ]
  },
  {
   "cell_type": "code",
   "execution_count": null,
   "id": "10f695a0",
   "metadata": {},
   "outputs": [],
   "source": [
    "lat_kamata = 35.562479        # 蒲田駅の緯度経度\n",
    "lon_kamata = 139.716073       # 蒲田駅の緯度経度\n",
    "lat_yokosukachuo = 35.278699  # 横須賀中央駅の緯度経度\n",
    "lon_yokosukachuo = 139.670040 # 横須賀中央駅の緯度経度\n",
    "print(cal_distance(lat_kamata,lon_kamata,lat_yokosukachuo,lon_yokosukachuo))"
   ]
  },
  {
   "cell_type": "code",
   "execution_count": null,
   "id": "349d23c9",
   "metadata": {},
   "outputs": [],
   "source": [
    "city_loc_cols = ['City','lat', 'lon']\n",
    "city_tr = train[city_loc_cols]"
   ]
  },
  {
   "cell_type": "code",
   "execution_count": null,
   "id": "a2ef1c17",
   "metadata": {},
   "outputs": [],
   "source": [
    "city_tr['City'].value_counts()"
   ]
  },
  {
   "cell_type": "code",
   "execution_count": null,
   "id": "17c5b9fa",
   "metadata": {},
   "outputs": [],
   "source": [
    "city_tr_ex = city_tr.drop_duplicates().copy()"
   ]
  },
  {
   "cell_type": "code",
   "execution_count": null,
   "id": "9fb9d010",
   "metadata": {},
   "outputs": [],
   "source": [
    "len(city_tr_ex)"
   ]
  },
  {
   "cell_type": "code",
   "execution_count": null,
   "id": "fc72db23",
   "metadata": {},
   "outputs": [],
   "source": [
    "city_ts = test[city_loc_cols]"
   ]
  },
  {
   "cell_type": "code",
   "execution_count": null,
   "id": "70eb12f8",
   "metadata": {
    "scrolled": true
   },
   "outputs": [],
   "source": [
    "city_ts['City'].value_counts()"
   ]
  },
  {
   "cell_type": "code",
   "execution_count": null,
   "id": "f955483c",
   "metadata": {},
   "outputs": [],
   "source": [
    "city_ts_ex = city_ts.drop_duplicates().copy()"
   ]
  },
  {
   "cell_type": "code",
   "execution_count": null,
   "id": "921c5d72",
   "metadata": {},
   "outputs": [],
   "source": [
    "len(city_ts_ex)"
   ]
  },
  {
   "cell_type": "markdown",
   "id": "29f62a6b",
   "metadata": {},
   "source": [
    "## test dataの近隣都市検索（一番近い都市を探す）"
   ]
  },
  {
   "cell_type": "code",
   "execution_count": null,
   "id": "ee1916f0",
   "metadata": {},
   "outputs": [],
   "source": [
    "tr_city_list = city_tr_ex['City'].unique()\n",
    "ts_city_list = city_ts_ex['City'].unique()"
   ]
  },
  {
   "cell_type": "code",
   "execution_count": null,
   "id": "069f6757",
   "metadata": {
    "scrolled": true
   },
   "outputs": [],
   "source": [
    "print(tr_city_list)\n",
    "print(ts_city_list)"
   ]
  },
  {
   "cell_type": "code",
   "execution_count": null,
   "id": "dd440ae3",
   "metadata": {},
   "outputs": [],
   "source": [
    "#test cityループ\n",
    "for ts_city in ts_city_list:\n",
    "    #列追加\n",
    "    city_tr_ex[ts_city]=0\n"
   ]
  },
  {
   "cell_type": "code",
   "execution_count": null,
   "id": "a0c6a9cc",
   "metadata": {},
   "outputs": [],
   "source": [
    "city_tr_ex"
   ]
  },
  {
   "cell_type": "code",
   "execution_count": null,
   "id": "78a706d7",
   "metadata": {},
   "outputs": [],
   "source": [
    "#tr_cityをベースにループ形成\n",
    "for tr_city in tr_city_list:\n",
    "    tr_idx = city_tr_ex.index[city_tr_ex['City']==tr_city][0]\n",
    "    #地点1のlat,lon取得\n",
    "    lat_1 = city_tr_ex.loc[tr_idx,'lat']\n",
    "    lon_1 = city_tr_ex.loc[tr_idx,'lon']\n",
    "    #test cityループ\n",
    "    for ts_city in ts_city_list:\n",
    "        #city_tr_ex[ts_city]='0'\n",
    "        ts_idx = city_ts_ex.index[city_ts_ex['City']==ts_city][0]\n",
    "        #地点2のlat,lon取得\n",
    "        lat_2 = city_ts_ex.loc[ts_idx,'lat']\n",
    "        lon_2 = city_ts_ex.loc[ts_idx,'lon']\n",
    "        #距離算出\n",
    "        #print(city_tr_ex.loc[tr_idx,ts_city])\n",
    "        city_tr_ex.loc[tr_idx,ts_city] = cal_distance(lat_1,lon_1,lat_2,lon_2)\n"
   ]
  },
  {
   "cell_type": "code",
   "execution_count": null,
   "id": "ec5eb3fe",
   "metadata": {},
   "outputs": [],
   "source": [
    "city_tr_ex"
   ]
  },
  {
   "cell_type": "code",
   "execution_count": null,
   "id": "e37917f1",
   "metadata": {},
   "outputs": [],
   "source": [
    "city_tr_ex[city_tr_ex['Adelaide']==city_tr_ex['Adelaide'].min()]['City'].values[0]"
   ]
  },
  {
   "cell_type": "code",
   "execution_count": null,
   "id": "65341a37",
   "metadata": {},
   "outputs": [],
   "source": [
    "city_ts_ex['n_city']=' '"
   ]
  },
  {
   "cell_type": "code",
   "execution_count": null,
   "id": "b3872cbe",
   "metadata": {},
   "outputs": [],
   "source": [
    "for ts_city in ts_city_list:\n",
    "    ts_idx = city_ts_ex.index[city_ts_ex['City']==ts_city][0]\n",
    "    city_ts_ex.loc[ts_idx,'n_city']=city_tr_ex[city_tr_ex[ts_city]==city_tr_ex[ts_city].min()]['City'].values[0]"
   ]
  },
  {
   "cell_type": "code",
   "execution_count": null,
   "id": "c0564776",
   "metadata": {
    "scrolled": false
   },
   "outputs": [],
   "source": [
    "city_ts_ex"
   ]
  },
  {
   "cell_type": "code",
   "execution_count": null,
   "id": "af4795ed",
   "metadata": {},
   "outputs": [],
   "source": [
    "city_ts_sel = city_ts_ex[['City','n_city']]"
   ]
  },
  {
   "cell_type": "code",
   "execution_count": null,
   "id": "8c2c16e9",
   "metadata": {},
   "outputs": [],
   "source": [
    "city_ts_sel.to_csv('change_city.csv',index=None)"
   ]
  },
  {
   "cell_type": "code",
   "execution_count": null,
   "id": "a54443f5",
   "metadata": {},
   "outputs": [],
   "source": [
    "city_tr_geo = city_tr_ex[['City','lat','lon']]"
   ]
  },
  {
   "cell_type": "code",
   "execution_count": null,
   "id": "cb37cab1",
   "metadata": {},
   "outputs": [],
   "source": [
    "city_tr_geo"
   ]
  },
  {
   "cell_type": "code",
   "execution_count": null,
   "id": "e11cc2cb",
   "metadata": {},
   "outputs": [],
   "source": [
    "city_ts_geo = city_ts_ex[['City','lat','lon']]"
   ]
  },
  {
   "cell_type": "code",
   "execution_count": null,
   "id": "5db58948",
   "metadata": {},
   "outputs": [],
   "source": [
    "city_tr_geo.to_csv('train_city.csv',index=None)\n",
    "city_ts_geo.to_csv('test_city.csv',index=None)"
   ]
  },
  {
   "cell_type": "code",
   "execution_count": null,
   "id": "c8add17a",
   "metadata": {},
   "outputs": [],
   "source": []
  },
  {
   "cell_type": "code",
   "execution_count": null,
   "id": "3ad2d018",
   "metadata": {},
   "outputs": [],
   "source": []
  }
 ],
 "metadata": {
  "kernelspec": {
   "display_name": "Python 3 (ipykernel)",
   "language": "python",
   "name": "python3"
  },
  "language_info": {
   "codemirror_mode": {
    "name": "ipython",
    "version": 3
   },
   "file_extension": ".py",
   "mimetype": "text/x-python",
   "name": "python",
   "nbconvert_exporter": "python",
   "pygments_lexer": "ipython3",
   "version": "3.10.3"
  }
 },
 "nbformat": 4,
 "nbformat_minor": 5
}
